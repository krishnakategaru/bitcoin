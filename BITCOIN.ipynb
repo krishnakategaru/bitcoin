{
 "cells": [
  {
   "cell_type": "code",
   "execution_count": 8,
   "metadata": {},
   "outputs": [],
   "source": [
    "import numpy as np\n",
    "import pandas as pd\n",
    "import matplotlib.pyplot as plt\n",
    "%matplotlib inline\n",
    "import warnings\n",
    "warnings.filterwarnings('ignore')\n",
    "\n",
    "df=pd.read_csv('bitcoinfinal+(4).csv',header=None)\n",
    "df.columns=['Month','Price']\n",
    "df=df.set_index('Month')"
   ]
  },
  {
   "cell_type": "code",
   "execution_count": 9,
   "metadata": {},
   "outputs": [
    {
     "data": {
      "text/html": [
       "<div>\n",
       "<style scoped>\n",
       "    .dataframe tbody tr th:only-of-type {\n",
       "        vertical-align: middle;\n",
       "    }\n",
       "\n",
       "    .dataframe tbody tr th {\n",
       "        vertical-align: top;\n",
       "    }\n",
       "\n",
       "    .dataframe thead th {\n",
       "        text-align: right;\n",
       "    }\n",
       "</style>\n",
       "<table border=\"1\" class=\"dataframe\">\n",
       "  <thead>\n",
       "    <tr style=\"text-align: right;\">\n",
       "      <th></th>\n",
       "      <th>Price</th>\n",
       "    </tr>\n",
       "    <tr>\n",
       "      <th>Month</th>\n",
       "      <th></th>\n",
       "    </tr>\n",
       "  </thead>\n",
       "  <tbody>\n",
       "    <tr>\n",
       "      <th>0</th>\n",
       "      <td>217.4</td>\n",
       "    </tr>\n",
       "    <tr>\n",
       "      <th>1</th>\n",
       "      <td>255.7</td>\n",
       "    </tr>\n",
       "    <tr>\n",
       "      <th>2</th>\n",
       "      <td>244.3</td>\n",
       "    </tr>\n",
       "    <tr>\n",
       "      <th>3</th>\n",
       "      <td>236.1</td>\n",
       "    </tr>\n",
       "    <tr>\n",
       "      <th>4</th>\n",
       "      <td>228.7</td>\n",
       "    </tr>\n",
       "    <tr>\n",
       "      <th>5</th>\n",
       "      <td>262.9</td>\n",
       "    </tr>\n",
       "    <tr>\n",
       "      <th>6</th>\n",
       "      <td>284.5</td>\n",
       "    </tr>\n",
       "    <tr>\n",
       "      <th>7</th>\n",
       "      <td>231.4</td>\n",
       "    </tr>\n",
       "    <tr>\n",
       "      <th>8</th>\n",
       "      <td>236.5</td>\n",
       "    </tr>\n",
       "    <tr>\n",
       "      <th>9</th>\n",
       "      <td>316.0</td>\n",
       "    </tr>\n",
       "    <tr>\n",
       "      <th>10</th>\n",
       "      <td>376.9</td>\n",
       "    </tr>\n",
       "    <tr>\n",
       "      <th>11</th>\n",
       "      <td>429.0</td>\n",
       "    </tr>\n",
       "    <tr>\n",
       "      <th>12</th>\n",
       "      <td>365.5</td>\n",
       "    </tr>\n",
       "    <tr>\n",
       "      <th>13</th>\n",
       "      <td>439.2</td>\n",
       "    </tr>\n",
       "    <tr>\n",
       "      <th>14</th>\n",
       "      <td>416.0</td>\n",
       "    </tr>\n",
       "    <tr>\n",
       "      <th>15</th>\n",
       "      <td>446.6</td>\n",
       "    </tr>\n",
       "    <tr>\n",
       "      <th>16</th>\n",
       "      <td>530.7</td>\n",
       "    </tr>\n",
       "    <tr>\n",
       "      <th>17</th>\n",
       "      <td>674.7</td>\n",
       "    </tr>\n",
       "    <tr>\n",
       "      <th>18</th>\n",
       "      <td>623.7</td>\n",
       "    </tr>\n",
       "    <tr>\n",
       "      <th>19</th>\n",
       "      <td>576.2</td>\n",
       "    </tr>\n",
       "    <tr>\n",
       "      <th>20</th>\n",
       "      <td>611.1</td>\n",
       "    </tr>\n",
       "    <tr>\n",
       "      <th>21</th>\n",
       "      <td>704.1</td>\n",
       "    </tr>\n",
       "    <tr>\n",
       "      <th>22</th>\n",
       "      <td>739.0</td>\n",
       "    </tr>\n",
       "    <tr>\n",
       "      <th>23</th>\n",
       "      <td>966.6</td>\n",
       "    </tr>\n",
       "    <tr>\n",
       "      <th>24</th>\n",
       "      <td>966.2</td>\n",
       "    </tr>\n",
       "    <tr>\n",
       "      <th>25</th>\n",
       "      <td>1189.1</td>\n",
       "    </tr>\n",
       "    <tr>\n",
       "      <th>26</th>\n",
       "      <td>1081.7</td>\n",
       "    </tr>\n",
       "    <tr>\n",
       "      <th>27</th>\n",
       "      <td>1435.2</td>\n",
       "    </tr>\n",
       "    <tr>\n",
       "      <th>28</th>\n",
       "      <td>2191.8</td>\n",
       "    </tr>\n",
       "    <tr>\n",
       "      <th>29</th>\n",
       "      <td>2420.7</td>\n",
       "    </tr>\n",
       "    <tr>\n",
       "      <th>30</th>\n",
       "      <td>2856.0</td>\n",
       "    </tr>\n",
       "    <tr>\n",
       "      <th>31</th>\n",
       "      <td>4268.8</td>\n",
       "    </tr>\n",
       "  </tbody>\n",
       "</table>\n",
       "</div>"
      ],
      "text/plain": [
       "        Price\n",
       "Month        \n",
       "0       217.4\n",
       "1       255.7\n",
       "2       244.3\n",
       "3       236.1\n",
       "4       228.7\n",
       "5       262.9\n",
       "6       284.5\n",
       "7       231.4\n",
       "8       236.5\n",
       "9       316.0\n",
       "10      376.9\n",
       "11      429.0\n",
       "12      365.5\n",
       "13      439.2\n",
       "14      416.0\n",
       "15      446.6\n",
       "16      530.7\n",
       "17      674.7\n",
       "18      623.7\n",
       "19      576.2\n",
       "20      611.1\n",
       "21      704.1\n",
       "22      739.0\n",
       "23      966.6\n",
       "24      966.2\n",
       "25     1189.1\n",
       "26     1081.7\n",
       "27     1435.2\n",
       "28     2191.8\n",
       "29     2420.7\n",
       "30     2856.0\n",
       "31     4268.8"
      ]
     },
     "execution_count": 9,
     "metadata": {},
     "output_type": "execute_result"
    }
   ],
   "source": [
    "df"
   ]
  },
  {
   "cell_type": "code",
   "execution_count": 10,
   "metadata": {},
   "outputs": [],
   "source": [
    "train=df[:29]\n",
    "test=df[29:]"
   ]
  },
  {
   "cell_type": "code",
   "execution_count": 22,
   "metadata": {},
   "outputs": [
    {
     "data": {
      "image/png": "[encoded data removed]",
      "text/plain": [
       "<Figure size 720x360 with 1 Axes>"
      ]
     },
     "metadata": {
      "needs_background": "light"
     },
     "output_type": "display_data"
    },
    {
     "data": {
      "text/html": [
       "<div>\n",
       "<style scoped>\n",
       "    .dataframe tbody tr th:only-of-type {\n",
       "        vertical-align: middle;\n",
       "    }\n",
       "\n",
       "    .dataframe tbody tr th {\n",
       "        vertical-align: top;\n",
       "    }\n",
       "\n",
       "    .dataframe thead th {\n",
       "        text-align: right;\n",
       "    }\n",
       "</style>\n",
       "<table border=\"1\" class=\"dataframe\">\n",
       "  <thead>\n",
       "    <tr style=\"text-align: right;\">\n",
       "      <th></th>\n",
       "      <th>Method</th>\n",
       "      <th>Mape</th>\n",
       "      <th>RMSE</th>\n",
       "    </tr>\n",
       "  </thead>\n",
       "  <tbody>\n",
       "    <tr>\n",
       "      <th>0</th>\n",
       "      <td>Naive_method</td>\n",
       "      <td>27.12</td>\n",
       "      <td>1265.9</td>\n",
       "    </tr>\n",
       "  </tbody>\n",
       "</table>\n",
       "</div>"
      ],
      "text/plain": [
       "         Method   Mape    RMSE\n",
       "0  Naive_method  27.12  1265.9"
      ]
     },
     "execution_count": 22,
     "metadata": {},
     "output_type": "execute_result"
    }
   ],
   "source": [
    "y_naive=test.copy()\n",
    "\n",
    "y_naive['forecast']=train['Price'][28]\n",
    "plt.figure(figsize=(10,5))\n",
    "plt.plot(train['Price'],label='Train')\n",
    "plt.plot(test['Price'],label='Test')\n",
    "plt.plot(y_naive['forecast'],label='naive')\n",
    "plt.legend(loc='best')\n",
    "plt.title('Naive Method')\n",
    "plt.show()\n",
    "\n",
    "from sklearn.metrics import mean_squared_error\n",
    "rmse=np.sqrt(mean_squared_error(test['Price'],y_naive['forecast'])).round(2)\n",
    "mape=np.round(np.mean(np.abs(test['Price']-y_naive['forecast'])/test['Price'])*100,2)\n",
    "results=pd.DataFrame({'Method':['Naive_method'],'Mape':[mape],'RMSE':[rmse]})\n",
    "results=results[['Method','Mape','RMSE']]\n",
    "results"
   ]
  },
  {
   "cell_type": "code",
   "execution_count": 23,
   "metadata": {},
   "outputs": [
    {
     "data": {
      "image/png": "[encoded data removed]",
      "text/plain": [
       "<Figure size 720x360 with 1 Axes>"
      ]
     },
     "metadata": {
      "needs_background": "light"
     },
     "output_type": "display_data"
    },
    {
     "data": {
      "text/html": [
       "<div>\n",
       "<style scoped>\n",
       "    .dataframe tbody tr th:only-of-type {\n",
       "        vertical-align: middle;\n",
       "    }\n",
       "\n",
       "    .dataframe tbody tr th {\n",
       "        vertical-align: top;\n",
       "    }\n",
       "\n",
       "    .dataframe thead th {\n",
       "        text-align: right;\n",
       "    }\n",
       "</style>\n",
       "<table border=\"1\" class=\"dataframe\">\n",
       "  <thead>\n",
       "    <tr style=\"text-align: right;\">\n",
       "      <th></th>\n",
       "      <th>Method</th>\n",
       "      <th>Mape</th>\n",
       "      <th>RMSE</th>\n",
       "    </tr>\n",
       "  </thead>\n",
       "  <tbody>\n",
       "    <tr>\n",
       "      <th>0</th>\n",
       "      <td>SImple Average</td>\n",
       "      <td>80.19</td>\n",
       "      <td>2703.73</td>\n",
       "    </tr>\n",
       "  </tbody>\n",
       "</table>\n",
       "</div>"
      ],
      "text/plain": [
       "           Method   Mape     RMSE\n",
       "0  SImple Average  80.19  2703.73"
      ]
     },
     "execution_count": 23,
     "metadata": {},
     "output_type": "execute_result"
    }
   ],
   "source": [
    "y_average=test.copy()\n",
    "\n",
    "y_average['forecast']=train['Price'].mean()\n",
    "plt.figure(figsize=(10,5))\n",
    "plt.plot(train['Price'],label='Train')\n",
    "plt.plot(test['Price'],label='Test')\n",
    "plt.plot(y_average['forecast'],label='naive')\n",
    "plt.legend(loc='best')\n",
    "plt.title('Average Method')\n",
    "plt.show()\n",
    "\n",
    "from sklearn.metrics import mean_squared_error\n",
    "rmse=np.sqrt(mean_squared_error(test['Price'],y_average['forecast'])).round(2)\n",
    "mape=np.round(np.mean(np.abs(test['Price']-y_average['forecast'])/test['Price'])*100,2)\n",
    "new_results=pd.DataFrame({'Method':['SImple Average'],'Mape':[mape],'RMSE':[rmse]})\n",
    "new_results=new_results[['Method','Mape','RMSE']]\n",
    "new_results"
   ]
  },
  {
   "cell_type": "code",
   "execution_count": 24,
   "metadata": {},
   "outputs": [
    {
     "data": {
      "image/png": "[encoded data removed]",
      "text/plain": [
       "<Figure size 720x360 with 1 Axes>"
      ]
     },
     "metadata": {
      "needs_background": "light"
     },
     "output_type": "display_data"
    },
    {
     "data": {
      "text/html": [
       "<div>\n",
       "<style scoped>\n",
       "    .dataframe tbody tr th:only-of-type {\n",
       "        vertical-align: middle;\n",
       "    }\n",
       "\n",
       "    .dataframe tbody tr th {\n",
       "        vertical-align: top;\n",
       "    }\n",
       "\n",
       "    .dataframe thead th {\n",
       "        text-align: right;\n",
       "    }\n",
       "</style>\n",
       "<table border=\"1\" class=\"dataframe\">\n",
       "  <thead>\n",
       "    <tr style=\"text-align: right;\">\n",
       "      <th></th>\n",
       "      <th>Method</th>\n",
       "      <th>Mape</th>\n",
       "      <th>RMSE</th>\n",
       "    </tr>\n",
       "  </thead>\n",
       "  <tbody>\n",
       "    <tr>\n",
       "      <th>0</th>\n",
       "      <td>moving average</td>\n",
       "      <td>67.42</td>\n",
       "      <td>2338.94</td>\n",
       "    </tr>\n",
       "  </tbody>\n",
       "</table>\n",
       "</div>"
      ],
      "text/plain": [
       "           Method   Mape     RMSE\n",
       "0  moving average  67.42  2338.94"
      ]
     },
     "execution_count": 24,
     "metadata": {},
     "output_type": "execute_result"
    }
   ],
   "source": [
    "## Moving Average\n",
    "\n",
    "\n",
    "y_sme=df.copy()\n",
    "window=12\n",
    "y_sme['forecast']=y_sme['Price'].rolling(window).mean()\n",
    "\n",
    "y_sme['forecast'][29:]=y_sme['forecast'][28]\n",
    "y_sme\n",
    "\n",
    "plt.figure(figsize=(10,5))\n",
    "plt.plot(train['Price'],label='Train')\n",
    "plt.plot(test['Price'],label='Test')\n",
    "plt.plot(y_sme['forecast'],label='simple moving average')\n",
    "plt.legend(loc='best')\n",
    "plt.title('simple moving average Method')\n",
    "plt.show()\n",
    "\n",
    "from sklearn.metrics import mean_squared_error\n",
    "rmse=np.sqrt(mean_squared_error(test['Price'],y_sme['forecast'][29:])).round(2)\n",
    "mape=np.round(np.mean(np.abs(test['Price']-y_sme['forecast'][29:])/test['Price'])*100,2)\n",
    "results=pd.DataFrame({'Method':['moving average'],'Mape':[mape],'RMSE':[rmse]})\n",
    "results=results[['Method','Mape','RMSE']]\n",
    "results"
   ]
  },
  {
   "cell_type": "code",
   "execution_count": 25,
   "metadata": {},
   "outputs": [
    {
     "data": {
      "text/html": [
       "<div>\n",
       "<style scoped>\n",
       "    .dataframe tbody tr th:only-of-type {\n",
       "        vertical-align: middle;\n",
       "    }\n",
       "\n",
       "    .dataframe tbody tr th {\n",
       "        vertical-align: top;\n",
       "    }\n",
       "\n",
       "    .dataframe thead th {\n",
       "        text-align: right;\n",
       "    }\n",
       "</style>\n",
       "<table border=\"1\" class=\"dataframe\">\n",
       "  <thead>\n",
       "    <tr style=\"text-align: right;\">\n",
       "      <th></th>\n",
       "      <th>Method</th>\n",
       "      <th>Mape</th>\n",
       "      <th>RMSE</th>\n",
       "    </tr>\n",
       "  </thead>\n",
       "  <tbody>\n",
       "    <tr>\n",
       "      <th>0</th>\n",
       "      <td>moving average</td>\n",
       "      <td>56.61</td>\n",
       "      <td>2035.79</td>\n",
       "    </tr>\n",
       "  </tbody>\n",
       "</table>\n",
       "</div>"
      ],
      "text/plain": [
       "           Method   Mape     RMSE\n",
       "0  moving average  56.61  2035.79"
      ]
     },
     "execution_count": 25,
     "metadata": {},
     "output_type": "execute_result"
    }
   ],
   "source": [
    "## Moving Average\n",
    "\n",
    "\n",
    "y_sme=df.copy()\n",
    "window=6\n",
    "y_sme['forecast']=y_sme['Price'].rolling(window).mean()\n",
    "\n",
    "y_sme['forecast'][29:]=y_sme['forecast'][28]\n",
    "\n",
    "from sklearn.metrics import mean_squared_error\n",
    "rmse=np.sqrt(mean_squared_error(test['Price'],y_sme['forecast'][29:])).round(2)\n",
    "mape=np.round(np.mean(np.abs(test['Price']-y_sme['forecast'][29:])/test['Price'])*100,2)\n",
    "results=pd.DataFrame({'Method':['moving average'],'Mape':[mape],'RMSE':[rmse]})\n",
    "results=results[['Method','Mape','RMSE']]\n",
    "results"
   ]
  },
  {
   "cell_type": "code",
   "execution_count": 27,
   "metadata": {},
   "outputs": [
    {
     "data": {
      "text/html": [
       "<div>\n",
       "<style scoped>\n",
       "    .dataframe tbody tr th:only-of-type {\n",
       "        vertical-align: middle;\n",
       "    }\n",
       "\n",
       "    .dataframe tbody tr th {\n",
       "        vertical-align: top;\n",
       "    }\n",
       "\n",
       "    .dataframe thead th {\n",
       "        text-align: right;\n",
       "    }\n",
       "</style>\n",
       "<table border=\"1\" class=\"dataframe\">\n",
       "  <thead>\n",
       "    <tr style=\"text-align: right;\">\n",
       "      <th></th>\n",
       "      <th>Method</th>\n",
       "      <th>Mape</th>\n",
       "      <th>RMSE</th>\n",
       "    </tr>\n",
       "  </thead>\n",
       "  <tbody>\n",
       "    <tr>\n",
       "      <th>0</th>\n",
       "      <td>moving average</td>\n",
       "      <td>47.81</td>\n",
       "      <td>1794.92</td>\n",
       "    </tr>\n",
       "  </tbody>\n",
       "</table>\n",
       "</div>"
      ],
      "text/plain": [
       "           Method   Mape     RMSE\n",
       "0  moving average  47.81  1794.92"
      ]
     },
     "execution_count": 27,
     "metadata": {},
     "output_type": "execute_result"
    }
   ],
   "source": [
    "## Moving Average\n",
    "\n",
    "\n",
    "y_sme=df.copy()\n",
    "window=3\n",
    "y_sme['forecast']=y_sme['Price'].rolling(window).mean()\n",
    "\n",
    "y_sme['forecast'][29:]=y_sme['forecast'][28]\n",
    "\n",
    "from sklearn.metrics import mean_squared_error\n",
    "rmse=np.sqrt(mean_squared_error(test['Price'],y_sme['forecast'][29:])).round(2)\n",
    "mape=np.round(np.mean(np.abs(test['Price']-y_sme['forecast'][29:])/test['Price'])*100,2)\n",
    "results=pd.DataFrame({'Method':['moving average'],'Mape':[mape],'RMSE':[rmse]})\n",
    "results=results[['Method','Mape','RMSE']]\n",
    "results"
   ]
  },
  {
   "cell_type": "code",
   "execution_count": 34,
   "metadata": {},
   "outputs": [
    {
     "name": "stdout",
     "output_type": "stream",
     "text": [
      "{'smoothing_level': 0.995, 'smoothing_trend': nan, 'smoothing_seasonal': nan, 'damping_trend': nan, 'initial_level': 217.4, 'initial_trend': nan, 'initial_seasons': array([], dtype=float64), 'use_boxcox': False, 'lamda': None, 'remove_bias': False}\n"
     ]
    },
    {
     "data": {
      "image/png": "[encoded data removed]",
      "text/plain": [
       "<Figure size 720x360 with 1 Axes>"
      ]
     },
     "metadata": {
      "needs_background": "light"
     },
     "output_type": "display_data"
    },
    {
     "data": {
      "text/html": [
       "<div>\n",
       "<style scoped>\n",
       "    .dataframe tbody tr th:only-of-type {\n",
       "        vertical-align: middle;\n",
       "    }\n",
       "\n",
       "    .dataframe tbody tr th {\n",
       "        vertical-align: top;\n",
       "    }\n",
       "\n",
       "    .dataframe thead th {\n",
       "        text-align: right;\n",
       "    }\n",
       "</style>\n",
       "<table border=\"1\" class=\"dataframe\">\n",
       "  <thead>\n",
       "    <tr style=\"text-align: right;\">\n",
       "      <th></th>\n",
       "      <th>Method</th>\n",
       "      <th>Mape</th>\n",
       "      <th>RMSE</th>\n",
       "    </tr>\n",
       "  </thead>\n",
       "  <tbody>\n",
       "    <tr>\n",
       "      <th>0</th>\n",
       "      <td>moving average</td>\n",
       "      <td>27.25</td>\n",
       "      <td>1268.86</td>\n",
       "    </tr>\n",
       "  </tbody>\n",
       "</table>\n",
       "</div>"
      ],
      "text/plain": [
       "           Method   Mape     RMSE\n",
       "0  moving average  27.25  1268.86"
      ]
     },
     "execution_count": 34,
     "metadata": {},
     "output_type": "execute_result"
    }
   ],
   "source": [
    "from statsmodels.tsa.holtwinters import SimpleExpSmoothing\n",
    "model=SimpleExpSmoothing(train['Price'])\n",
    "model_fit=model.fit(optimized=True)\n",
    "print(model_fit.params)\n",
    "y_exp=test.copy()\n",
    "y_exp['forecast']=model_fit.forecast(4)\n",
    "\n",
    "plt.figure(figsize=(10,5))\n",
    "plt.plot(train['Price'],label='Train')\n",
    "plt.plot(test['Price'],label='Test')\n",
    "plt.plot(y_exp['forecast'],label='simple moving average')\n",
    "plt.legend(loc='best')\n",
    "plt.title('simple moving average Method')\n",
    "plt.show()\n",
    "\n",
    "from sklearn.metrics import mean_squared_error\n",
    "rmse=np.sqrt(mean_squared_error(test['Price'],y_exp['forecast'])).round(2)\n",
    "mape=np.round(np.mean(np.abs(test['Price']-y_exp['forecast'])/test['Price'])*100,2)\n",
    "results=pd.DataFrame({'Method':['moving average'],'Mape':[mape],'RMSE':[rmse]})\n",
    "results=results[['Method','Mape','RMSE']]\n",
    "results"
   ]
  },
  {
   "cell_type": "code",
   "execution_count": 35,
   "metadata": {},
   "outputs": [
    {
     "name": "stdout",
     "output_type": "stream",
     "text": [
      "{'smoothing_level': 0.9999999850988388, 'smoothing_trend': 0.4214418654599371, 'smoothing_seasonal': nan, 'damping_trend': nan, 'initial_level': 203.1132892860118, 'initial_trend': 13.895974198630283, 'initial_seasons': array([], dtype=float64), 'use_boxcox': False, 'lamda': None, 'remove_bias': False}\n"
     ]
    },
    {
     "data": {
      "image/png": "[encoded data removed]",
      "text/plain": [
       "<Figure size 720x360 with 1 Axes>"
      ]
     },
     "metadata": {
      "needs_background": "light"
     },
     "output_type": "display_data"
    },
    {
     "data": {
      "text/html": [
       "<div>\n",
       "<style scoped>\n",
       "    .dataframe tbody tr th:only-of-type {\n",
       "        vertical-align: middle;\n",
       "    }\n",
       "\n",
       "    .dataframe tbody tr th {\n",
       "        vertical-align: top;\n",
       "    }\n",
       "\n",
       "    .dataframe thead th {\n",
       "        text-align: right;\n",
       "    }\n",
       "</style>\n",
       "<table border=\"1\" class=\"dataframe\">\n",
       "  <thead>\n",
       "    <tr style=\"text-align: right;\">\n",
       "      <th></th>\n",
       "      <th>Method</th>\n",
       "      <th>Mape</th>\n",
       "      <th>RMSE</th>\n",
       "    </tr>\n",
       "  </thead>\n",
       "  <tbody>\n",
       "    <tr>\n",
       "      <th>0</th>\n",
       "      <td>moving average</td>\n",
       "      <td>11.01</td>\n",
       "      <td>500.32</td>\n",
       "    </tr>\n",
       "  </tbody>\n",
       "</table>\n",
       "</div>"
      ],
      "text/plain": [
       "           Method   Mape    RMSE\n",
       "0  moving average  11.01  500.32"
      ]
     },
     "execution_count": 35,
     "metadata": {},
     "output_type": "execute_result"
    }
   ],
   "source": [
    "from statsmodels.tsa.holtwinters import ExponentialSmoothing\n",
    "model=ExponentialSmoothing(train['Price'],seasonal_periods=12,trend='additive',seasonal=None)\n",
    "model_fit=model.fit(optimized=True)\n",
    "print(model_fit.params)\n",
    "y_full_exp=test.copy()\n",
    "y_full_exp['forecast']=model_fit.forecast(4)\n",
    "\n",
    "plt.figure(figsize=(10,5))\n",
    "plt.plot(train['Price'],label='Train')\n",
    "plt.plot(test['Price'],label='Test')\n",
    "plt.plot(y_full_exp['forecast'],label='simple moving average')\n",
    "plt.legend(loc='best')\n",
    "plt.title('simple moving average Method')\n",
    "plt.show()\n",
    "\n",
    "from sklearn.metrics import mean_squared_error\n",
    "rmse=np.sqrt(mean_squared_error(test['Price'],y_full_exp['forecast'])).round(2)\n",
    "mape=np.round(np.mean(np.abs(test['Price']-y_full_exp['forecast'])/test['Price'])*100,2)\n",
    "results=pd.DataFrame({'Method':['moving average'],'Mape':[mape],'RMSE':[rmse]})\n",
    "results=results[['Method','Mape','RMSE']]\n",
    "results"
   ]
  },
  {
   "cell_type": "code",
   "execution_count": 36,
   "metadata": {},
   "outputs": [
    {
     "name": "stdout",
     "output_type": "stream",
     "text": [
      "{'smoothing_level': 0.9950625601289577, 'smoothing_trend': 0.42111954626044573, 'smoothing_seasonal': 9.751324623840603e-05, 'damping_trend': nan, 'initial_level': 559.4825910109845, 'initial_trend': 1.1394591693108533, 'initial_seasons': array([-340.05221552, -301.79375948, -319.39231373]), 'use_boxcox': False, 'lamda': None, 'remove_bias': False}\n"
     ]
    },
    {
     "data": {
      "text/html": [
       "<div>\n",
       "<style scoped>\n",
       "    .dataframe tbody tr th:only-of-type {\n",
       "        vertical-align: middle;\n",
       "    }\n",
       "\n",
       "    .dataframe tbody tr th {\n",
       "        vertical-align: top;\n",
       "    }\n",
       "\n",
       "    .dataframe thead th {\n",
       "        text-align: right;\n",
       "    }\n",
       "</style>\n",
       "<table border=\"1\" class=\"dataframe\">\n",
       "  <thead>\n",
       "    <tr style=\"text-align: right;\">\n",
       "      <th></th>\n",
       "      <th>Method</th>\n",
       "      <th>Mape</th>\n",
       "      <th>RMSE</th>\n",
       "    </tr>\n",
       "  </thead>\n",
       "  <tbody>\n",
       "    <tr>\n",
       "      <th>0</th>\n",
       "      <td>moving average</td>\n",
       "      <td>10.11</td>\n",
       "      <td>512.23</td>\n",
       "    </tr>\n",
       "  </tbody>\n",
       "</table>\n",
       "</div>"
      ],
      "text/plain": [
       "           Method   Mape    RMSE\n",
       "0  moving average  10.11  512.23"
      ]
     },
     "execution_count": 36,
     "metadata": {},
     "output_type": "execute_result"
    }
   ],
   "source": [
    "from statsmodels.tsa.holtwinters import ExponentialSmoothing\n",
    "model=ExponentialSmoothing(train['Price'],seasonal_periods=3,trend='additive',seasonal='additive')\n",
    "model_fit=model.fit(optimized=True)\n",
    "print(model_fit.params)\n",
    "y_full_exp=test.copy()\n",
    "y_full_exp['forecast']=model_fit.forecast(4)\n",
    "\n",
    "from sklearn.metrics import mean_squared_error\n",
    "rmse=np.sqrt(mean_squared_error(test['Price'],y_full_exp['forecast'])).round(2)\n",
    "mape=np.round(np.mean(np.abs(test['Price']-y_full_exp['forecast'])/test['Price'])*100,2)\n",
    "results=pd.DataFrame({'Method':['moving average'],'Mape':[mape],'RMSE':[rmse]})\n",
    "results=results[['Method','Mape','RMSE']]\n",
    "results"
   ]
  },
  {
   "cell_type": "code",
   "execution_count": 37,
   "metadata": {},
   "outputs": [
    {
     "name": "stdout",
     "output_type": "stream",
     "text": [
      "{'smoothing_level': 0.9944917944567522, 'smoothing_trend': 0.3634382565308455, 'smoothing_seasonal': 6.119035235809842e-05, 'damping_trend': nan, 'initial_level': 639.4445017259073, 'initial_trend': 0.010690088183268998, 'initial_seasons': array([0.33639725, 0.3856573 , 0.34915365]), 'use_boxcox': False, 'lamda': None, 'remove_bias': False}\n"
     ]
    },
    {
     "data": {
      "text/html": [
       "<div>\n",
       "<style scoped>\n",
       "    .dataframe tbody tr th:only-of-type {\n",
       "        vertical-align: middle;\n",
       "    }\n",
       "\n",
       "    .dataframe tbody tr th {\n",
       "        vertical-align: top;\n",
       "    }\n",
       "\n",
       "    .dataframe thead th {\n",
       "        text-align: right;\n",
       "    }\n",
       "</style>\n",
       "<table border=\"1\" class=\"dataframe\">\n",
       "  <thead>\n",
       "    <tr style=\"text-align: right;\">\n",
       "      <th></th>\n",
       "      <th>Method</th>\n",
       "      <th>Mape</th>\n",
       "      <th>RMSE</th>\n",
       "    </tr>\n",
       "  </thead>\n",
       "  <tbody>\n",
       "    <tr>\n",
       "      <th>0</th>\n",
       "      <td>moving average</td>\n",
       "      <td>14.91</td>\n",
       "      <td>675.23</td>\n",
       "    </tr>\n",
       "  </tbody>\n",
       "</table>\n",
       "</div>"
      ],
      "text/plain": [
       "           Method   Mape    RMSE\n",
       "0  moving average  14.91  675.23"
      ]
     },
     "execution_count": 37,
     "metadata": {},
     "output_type": "execute_result"
    }
   ],
   "source": [
    "from statsmodels.tsa.holtwinters import ExponentialSmoothing\n",
    "model=ExponentialSmoothing(train['Price'],seasonal_periods=3,trend='additive',seasonal='multiplicative')\n",
    "model_fit=model.fit(optimized=True)\n",
    "print(model_fit.params)\n",
    "y_full_exp=test.copy()\n",
    "y_full_exp['forecast']=model_fit.forecast(4)\n",
    "\n",
    "from sklearn.metrics import mean_squared_error\n",
    "rmse=np.sqrt(mean_squared_error(test['Price'],y_full_exp['forecast'])).round(2)\n",
    "mape=np.round(np.mean(np.abs(test['Price']-y_full_exp['forecast'])/test['Price'])*100,2)\n",
    "results=pd.DataFrame({'Method':['moving average'],'Mape':[mape],'RMSE':[rmse]})\n",
    "results=results[['Method','Mape','RMSE']]\n",
    "results"
   ]
  },
  {
   "cell_type": "code",
   "execution_count": null,
   "metadata": {},
   "outputs": [],
   "source": []
  }
 ],
 "metadata": {
  "kernelspec": {
   "display_name": "Python 3",
   "language": "python",
   "name": "python3"
  },
  "language_info": {
   "codemirror_mode": {
    "name": "ipython",
    "version": 3
   },
   "file_extension": ".py",
   "mimetype": "text/x-python",
   "name": "python",
   "nbconvert_exporter": "python",
   "pygments_lexer": "ipython3",
   "version": "3.8.5"
  }
 },
 "nbformat": 4,
 "nbformat_minor": 4
}
